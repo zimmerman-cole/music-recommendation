{
 "cells": [
  {
   "cell_type": "markdown",
   "metadata": {
    "heading_collapsed": true
   },
   "source": [
    "## Imports"
   ]
  },
  {
   "cell_type": "code",
   "execution_count": 1,
   "metadata": {
    "hidden": true
   },
   "outputs": [],
   "source": [
    "from collections import Counter, defaultdict\n",
    "\n",
    "import numpy as np\n",
    "from tqdm import tqdm\n",
    "\n",
    "from rec.data_loader import Dataset\n",
    "from rec.evaluation import evaluate_on_valid_set"
   ]
  },
  {
   "cell_type": "markdown",
   "metadata": {},
   "source": [
    "## Model definition\n",
    "\n",
    "* This is the example model provided by the [Kaggle competition](https://www.kaggle.com/c/msdchallenge).\n",
    "* It simply orders the songs by popularity (number of users played by), then for each user, predicts the most popular songs not already seen in that user's library."
   ]
  },
  {
   "cell_type": "code",
   "execution_count": 2,
   "metadata": {},
   "outputs": [],
   "source": [
    "class DummyModel(object):\n",
    "    \n",
    "    def __init__(self):\n",
    "        self.song_to_count = Counter()\n",
    "        self.user_to_songs = defaultdict(set)\n",
    "        \n",
    "        self.songs_ordered = None\n",
    "        \n",
    "    @property\n",
    "    def fitted(self):\n",
    "        return self.songs_ordered is not None\n",
    "        \n",
    "    def predict_for_user(self, user_id, user_data):\n",
    "        out = []\n",
    "        for song in self.songs_ordered:\n",
    "            if len(out) >= 500:\n",
    "                break\n",
    "                \n",
    "            if song not in self.user_to_songs[user_id]:\n",
    "                out.append(song)\n",
    "                \n",
    "        return np.array(out)\n",
    "    \n",
    "    def fit(self, train_data):\n",
    "        for (user_id, user_data) in tqdm(\n",
    "            train_data.iterate_over_visible_data(), total=len(train_data)\n",
    "        ):\n",
    "            for (song_id, _) in user_data:\n",
    "                self.song_to_count[song_id] += 1\n",
    "                self.user_to_songs[user_id].add(song_id)\n",
    "\n",
    "        self.songs_ordered = sorted(\n",
    "            self.song_to_count, key=lambda item: item[1]\n",
    "        )"
   ]
  },
  {
   "cell_type": "markdown",
   "metadata": {},
   "source": [
    "## 'Train' the model and evaluate on validation set \n",
    "\n",
    "* Evaluation metric: the _mean average precision_ (MAP), or the average number of songs the model correctly predicted over each user.\n",
    "* This toy model gets an MAP of approximately 0.001821."
   ]
  },
  {
   "cell_type": "code",
   "execution_count": 3,
   "metadata": {},
   "outputs": [
    {
     "name": "stderr",
     "output_type": "stream",
     "text": [
      "1019318it [02:35, 6562.22it/s]                             \n",
      "100%|██████████| 10000/10000 [00:42<00:00, 233.62it/s]\n"
     ]
    },
    {
     "data": {
      "text/plain": [
       "0.0018208000000000002"
      ]
     },
     "execution_count": 3,
     "metadata": {},
     "output_type": "execute_result"
    }
   ],
   "source": [
    "train_data = Dataset(which='train')\n",
    "dummy = DummyModel()\n",
    "dummy.fit(train_data)\n",
    "\n",
    "result = evaluate_on_valid_set(dummy)\n",
    "result"
   ]
  }
 ],
 "metadata": {
  "kernelspec": {
   "display_name": "Python 3",
   "language": "python",
   "name": "python3"
  },
  "language_info": {
   "codemirror_mode": {
    "name": "ipython",
    "version": 3
   },
   "file_extension": ".py",
   "mimetype": "text/x-python",
   "name": "python",
   "nbconvert_exporter": "python",
   "pygments_lexer": "ipython3",
   "version": "3.6.7"
  },
  "latex_envs": {
   "LaTeX_envs_menu_present": true,
   "autoclose": false,
   "autocomplete": true,
   "bibliofile": "biblio.bib",
   "cite_by": "apalike",
   "current_citInitial": 1,
   "eqLabelWithNumbers": true,
   "eqNumInitial": 1,
   "hotkeys": {
    "equation": "Ctrl-E",
    "itemize": "Ctrl-I"
   },
   "labels_anchors": false,
   "latex_user_defs": false,
   "report_style_numbering": false,
   "user_envs_cfg": false
  }
 },
 "nbformat": 4,
 "nbformat_minor": 2
}
