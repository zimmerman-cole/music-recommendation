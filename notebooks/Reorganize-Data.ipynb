{
 "cells": [
  {
   "cell_type": "code",
   "execution_count": 1,
   "metadata": {},
   "outputs": [],
   "source": [
    "import os\n",
    "from tqdm import tqdm\n",
    "\n",
    "data_path = os.path.abspath('../data/triplets/full_files/')\n",
    "\n",
    "filepaths = [\n",
    "    'train_triplets.txt',\n",
    "    'year1_test_triplets_hidden.txt',\n",
    "    'year1_test_triplets_visible.txt',\n",
    "    'year1_valid_triplets_hidden.txt',\n",
    "    'year1_valid_triplets_visible.txt'\n",
    "]\n",
    "for i, fname in enumerate(filepaths):\n",
    "    filepaths[i] = os.path.join(data_path, fname)\n",
    "    \n"
   ]
  },
  {
   "cell_type": "markdown",
   "metadata": {
    "heading_collapsed": true
   },
   "source": [
    "## visible valid triplets"
   ]
  },
  {
   "cell_type": "code",
   "execution_count": null,
   "metadata": {
    "hidden": true
   },
   "outputs": [],
   "source": [
    "filepath = filepaths[4]\n",
    "save_path = '../data/triplets/valid/visible/'\n",
    "\n",
    "with open(filepath, 'r') as text_file:\n",
    "    users_seen_so_far = set()\n",
    "    \n",
    "    first_line = text_file.readline().strip().split('\\t')\n",
    "    user_id, song_id = first_line[0], first_line[1]\n",
    "    num_plays = int(first_line[2])\n",
    "    users_seen_so_far.add(user_id)\n",
    "    \n",
    "    current_user_id = user_id\n",
    "    current_user_data = [(song_id, num_plays)]\n",
    "    \n",
    "    for line in tqdm(text_file, total=131038):\n",
    "        line = line.strip().split('\\t')\n",
    "        user_id, song_id = line[0], line[1]\n",
    "        num_plays = int(line[2])\n",
    "        \n",
    "        if user_id != current_user_id:\n",
    "            fpath = os.path.join(save_path, current_user_id + '.txt')\n",
    "            \n",
    "            with open(fpath, 'w') as file_to_save:\n",
    "                for (song_to_save, plays_to_save) in current_user_data:\n",
    "                    file_to_save.write(\n",
    "                        \"%s, %d\\n\" % (song_to_save, plays_to_save)\n",
    "                    )\n",
    "            \n",
    "            # reset data for new user\n",
    "            current_user_id = user_id\n",
    "            current_user_data = [(song_id, num_plays)]\n",
    "            users_seen_so_far.add(user_id)\n",
    "        else:\n",
    "            current_user_data.append((song_id, num_plays))"
   ]
  },
  {
   "cell_type": "markdown",
   "metadata": {
    "heading_collapsed": true
   },
   "source": [
    "## hidden valid triplets"
   ]
  },
  {
   "cell_type": "code",
   "execution_count": null,
   "metadata": {
    "hidden": true
   },
   "outputs": [],
   "source": [
    "filepath = filepaths[3]\n",
    "# print(filepath)\n",
    "save_path = '../data/triplets/valid/hidden/'\n",
    "\n",
    "with open(filepath, 'r') as text_file:\n",
    "    users_seen_so_far = set()\n",
    "    \n",
    "    first_line = text_file.readline().strip().split('\\t')\n",
    "    user_id, song_id = first_line[0], first_line[1]\n",
    "    num_plays = int(first_line[2])\n",
    "    users_seen_so_far.add(user_id)\n",
    "    \n",
    "    current_user_id = user_id\n",
    "    current_user_data = [(song_id, num_plays)]\n",
    "    \n",
    "    for line in tqdm(text_file):\n",
    "        line = line.strip().split('\\t')\n",
    "        user_id, song_id = line[0], line[1]\n",
    "        num_plays = int(line[2])\n",
    "        \n",
    "        if user_id != current_user_id:\n",
    "            fpath = os.path.join(save_path, current_user_id + '.txt')\n",
    "            \n",
    "            with open(fpath, 'w') as file_to_save:\n",
    "                for (song_to_save, plays_to_save) in current_user_data:\n",
    "                    file_to_save.write(\n",
    "                        \"%s, %d\\n\" % (song_to_save, plays_to_save)\n",
    "                    )\n",
    "            \n",
    "            # reset data for new user\n",
    "            current_user_id = user_id\n",
    "            current_user_data = [(song_id, num_plays)]\n",
    "            users_seen_so_far.add(user_id)\n",
    "        else:\n",
    "            current_user_data.append((song_id, num_plays))"
   ]
  },
  {
   "cell_type": "markdown",
   "metadata": {
    "heading_collapsed": true
   },
   "source": [
    "## visible test triplets"
   ]
  },
  {
   "cell_type": "code",
   "execution_count": null,
   "metadata": {
    "hidden": true
   },
   "outputs": [],
   "source": [
    "filepath = filepaths[2]\n",
    "save_path = '../data/triplets/test/visible/'\n",
    "\n",
    "with open(filepath, 'r') as text_file:\n",
    "    users_seen_so_far = set()\n",
    "    \n",
    "    first_line = text_file.readline().strip().split('\\t')\n",
    "    user_id, song_id = first_line[0], first_line[1]\n",
    "    num_plays = int(first_line[2])\n",
    "    users_seen_so_far.add(user_id)\n",
    "    \n",
    "    current_user_id = user_id\n",
    "    current_user_data = [(song_id, num_plays)]\n",
    "    \n",
    "    for line in tqdm(text_file):\n",
    "        line = line.strip().split('\\t')\n",
    "        user_id, song_id = line[0], line[1]\n",
    "        num_plays = int(line[2])\n",
    "        \n",
    "        if user_id != current_user_id:\n",
    "            fpath = os.path.join(save_path, current_user_id + '.txt')\n",
    "            \n",
    "            with open(fpath, 'w') as file_to_save:\n",
    "                for (song_to_save, plays_to_save) in current_user_data:\n",
    "                    file_to_save.write(\n",
    "                        \"%s, %d\\n\" % (song_to_save, plays_to_save)\n",
    "                    )\n",
    "            \n",
    "            # reset data for new user\n",
    "            current_user_id = user_id\n",
    "            current_user_data = [(song_id, num_plays)]\n",
    "            users_seen_so_far.add(user_id)\n",
    "        else:\n",
    "            current_user_data.append((song_id, num_plays))"
   ]
  },
  {
   "cell_type": "markdown",
   "metadata": {
    "heading_collapsed": true
   },
   "source": [
    "## hidden test triplets"
   ]
  },
  {
   "cell_type": "code",
   "execution_count": null,
   "metadata": {
    "hidden": true
   },
   "outputs": [],
   "source": [
    "filepath = filepaths[1]\n",
    "# print(filepath)\n",
    "save_path = '../data/triplets/test/hidden/'\n",
    "\n",
    "with open(filepath, 'r') as text_file:\n",
    "    users_seen_so_far = set()\n",
    "    \n",
    "    first_line = text_file.readline().strip().split('\\t')\n",
    "    user_id, song_id = first_line[0], first_line[1]\n",
    "    num_plays = int(first_line[2])\n",
    "    users_seen_so_far.add(user_id)\n",
    "    \n",
    "    current_user_id = user_id\n",
    "    current_user_data = [(song_id, num_plays)]\n",
    "    \n",
    "    for line in tqdm(text_file):\n",
    "        line = line.strip().split('\\t')\n",
    "        user_id, song_id = line[0], line[1]\n",
    "        num_plays = int(line[2])\n",
    "        \n",
    "        if user_id != current_user_id:\n",
    "            fpath = os.path.join(save_path, current_user_id + '.txt')\n",
    "            \n",
    "            with open(fpath, 'w') as file_to_save:\n",
    "                for (song_to_save, plays_to_save) in current_user_data:\n",
    "                    file_to_save.write(\n",
    "                        \"%s, %d\\n\" % (song_to_save, plays_to_save)\n",
    "                    )\n",
    "            \n",
    "            # reset data for new user\n",
    "            current_user_id = user_id\n",
    "            current_user_data = [(song_id, num_plays)]\n",
    "            users_seen_so_far.add(user_id)\n",
    "        else:\n",
    "            current_user_data.append((song_id, num_plays))"
   ]
  },
  {
   "cell_type": "markdown",
   "metadata": {},
   "source": [
    "## train triplets"
   ]
  },
  {
   "cell_type": "code",
   "execution_count": 2,
   "metadata": {},
   "outputs": [
    {
     "name": "stderr",
     "output_type": "stream",
     "text": [
      "  0%|          | 9138/48373585 [00:00<08:49, 91333.49it/s]"
     ]
    },
    {
     "name": "stdout",
     "output_type": "stream",
     "text": [
      "/home/zimmermancole/recommender/data/triplets/full_files/train_triplets.txt\n"
     ]
    },
    {
     "name": "stderr",
     "output_type": "stream",
     "text": [
      "100%|██████████| 48373585/48373585 [14:34<00:00, 55299.06it/s]\n"
     ]
    }
   ],
   "source": [
    "filepath = filepaths[0]\n",
    "print(filepath)\n",
    "save_path = '../data/triplets/train/'\n",
    "\n",
    "with open(filepath, 'r') as text_file:\n",
    "    first_line = text_file.readline().strip().split('\\t')\n",
    "    user_id, song_id = first_line[0], first_line[1]\n",
    "    num_plays = int(first_line[2])\n",
    "    \n",
    "    current_user_id = user_id\n",
    "    current_user_data = [(song_id, num_plays)]\n",
    "    \n",
    "    for line in tqdm(text_file, total=48373585):\n",
    "        line = line.strip().split('\\t')\n",
    "        user_id, song_id = line[0], line[1]\n",
    "        num_plays = int(line[2])\n",
    "        \n",
    "        if user_id != current_user_id:\n",
    "            fpath = os.path.join(save_path, current_user_id + '.txt')\n",
    "            \n",
    "            with open(fpath, 'w') as file_to_save:\n",
    "                for (song_to_save, plays_to_save) in current_user_data:\n",
    "                    file_to_save.write(\n",
    "                        \"%s, %d\\n\" % (song_to_save, plays_to_save)\n",
    "                    )\n",
    "            \n",
    "            # reset data for new user\n",
    "            current_user_id = user_id\n",
    "            current_user_data = [(song_id, num_plays)]\n",
    "        else:\n",
    "            current_user_data.append((song_id, num_plays))"
   ]
  }
 ],
 "metadata": {
  "kernelspec": {
   "display_name": "Python 3",
   "language": "python",
   "name": "python3"
  },
  "language_info": {
   "codemirror_mode": {
    "name": "ipython",
    "version": 3
   },
   "file_extension": ".py",
   "mimetype": "text/x-python",
   "name": "python",
   "nbconvert_exporter": "python",
   "pygments_lexer": "ipython3",
   "version": "3.6.7"
  },
  "latex_envs": {
   "LaTeX_envs_menu_present": true,
   "autoclose": false,
   "autocomplete": true,
   "bibliofile": "biblio.bib",
   "cite_by": "apalike",
   "current_citInitial": 1,
   "eqLabelWithNumbers": true,
   "eqNumInitial": 1,
   "hotkeys": {
    "equation": "Ctrl-E",
    "itemize": "Ctrl-I"
   },
   "labels_anchors": false,
   "latex_user_defs": false,
   "report_style_numbering": false,
   "user_envs_cfg": false
  }
 },
 "nbformat": 4,
 "nbformat_minor": 2
}
