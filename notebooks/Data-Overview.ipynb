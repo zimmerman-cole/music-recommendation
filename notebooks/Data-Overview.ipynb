{
 "cells": [
  {
   "cell_type": "markdown",
   "metadata": {},
   "source": [
    "# List of files"
   ]
  },
  {
   "cell_type": "markdown",
   "metadata": {},
   "source": [
    "In `data/`:\n",
    "* `kaggle_songs.txt`\n",
    "* `kaggle_users.txt`\n",
    "* `kaggle_visible_evaluation_triplets.txt`\n",
    "* `taste_profile_song_to_tracks.txt`\n",
    "* `train_triplets.txt`\n",
    "\n",
    "All of the above data was collected directly from the [Kaggle competition](https://www.kaggle.com/c/msdchallenge), except for `train_triplets.txt`, which was collected from the [Million Song Dataset website](http://millionsongdataset.com/) (MSD website).\n",
    "\n",
    "--------------\n",
    "\n",
    "In `data/msd_misc/`:\n",
    "* `artist_location.txt`\n",
    "* `unique_artists.txt`\n",
    "* `unique_mbtags.txt`\n",
    "* `unique_terms.txt`\n",
    "* `unique_tracks.txt`\n",
    "\n",
    "All of the above data was collected from the MSD website - more specifically, [this page](http://millionsongdataset.com/sites/default/files/AdditionalFiles/)."
   ]
  },
  {
   "cell_type": "markdown",
   "metadata": {},
   "source": [
    "# `data/`"
   ]
  },
  {
   "cell_type": "markdown",
   "metadata": {
    "heading_collapsed": true
   },
   "source": [
    "## `kaggle_songs.txt`\n",
    "\n",
    "* Contains a list of all song IDs."
   ]
  },
  {
   "cell_type": "code",
   "execution_count": 4,
   "metadata": {
    "hidden": true
   },
   "outputs": [
    {
     "name": "stdout",
     "output_type": "stream",
     "text": [
      "['SOAAADD12AB018A9DD', 'SOAAADE12A6D4F80CC', 'SOAAADF12A8C13DF62', 'SOAAADZ12A8C1334FB', 'SOAAAFI12A6D4F9C66', 'SOAAAGK12AB0189572', 'SOAAAGN12AB017D672', 'SOAAAGO12A67AE0A0E', 'SOAAAGP12A6D4F7D1C', 'SOAAAGQ12A8C1420C8']\n"
     ]
    }
   ],
   "source": [
    "path = '../data/kaggle_songs.txt'\n",
    "with open(path, 'r') as f:\n",
    "    lines = [f.readline().strip().split(' ')[0] for _ in range(10)]\n",
    "    \n",
    "print(lines)"
   ]
  },
  {
   "cell_type": "markdown",
   "metadata": {
    "heading_collapsed": true
   },
   "source": [
    "## `kaggle_users.txt`\n",
    "\n",
    "* Contains a list of all user IDs."
   ]
  },
  {
   "cell_type": "code",
   "execution_count": 2,
   "metadata": {
    "hidden": true
   },
   "outputs": [
    {
     "name": "stdout",
     "output_type": "stream",
     "text": [
      "['fd50c4007b68a3737fe052d5a4f78ce8aa117f3d', 'd7083f5e1d50c264277d624340edaaf3dc16095b', 'd68dc6fc25248234590d7668a11e3335534ae4b4', '9be82340a8b5ef32357fe5af957ccd54736ece95', '841b2394ae3a9febbd6b06497b4a8ee8eb24b7f8', '91b8fac7dc5e03f6cfaf6e2aa7171f14a8354d62', '458833ce4418010e61304b34b2c992e1cce63435', 'c34670d9c1718361feb93068a853cead3c95b76a', '0f40e074aab2c5f47b7ddc2277fb0295b5b3a058', 'ef0d21935a2f8ae90571dbfab800f87fa5b38769']\n"
     ]
    }
   ],
   "source": [
    "path = '../data/kaggle_users.txt'\n",
    "with open(path, 'r') as f:\n",
    "    lines = [f.readline().strip() for _ in range(10)]\n",
    "    \n",
    "print(lines)"
   ]
  },
  {
   "cell_type": "markdown",
   "metadata": {
    "heading_collapsed": true
   },
   "source": [
    "## `taste_profile_song_to_tracks.txt`\n",
    "\n",
    "* Contains the mapping from *song* IDs to corresponding *track* IDs.\n",
    "* Most of the MSD data references songs by their *track* ID, but the kaggle data references songs by their *song* ID.\n",
    "* This file allows us to translate back and forth between these two ID systems, but the mapping isn't perfect: some song IDs map to multiple track IDs, and some song IDs do not map to any track ID."
   ]
  },
  {
   "cell_type": "code",
   "execution_count": 5,
   "metadata": {
    "hidden": true
   },
   "outputs": [
    {
     "name": "stdout",
     "output_type": "stream",
     "text": [
      "{'SOAAADD12AB018A9DD': ['TRNCENP12903C9EF3A'], 'SOAAADE12A6D4F80CC': ['TRSKKFK128F148B615'], 'SOAAADF12A8C13DF62': ['TRCQMSP128F428A6F7'], 'SOAAADZ12A8C1334FB': ['TRMDNZY128F425A532'], 'SOAAAFI12A6D4F9C66': ['TRZEXLQ128F1491D17'], 'SOAAAGK12AB0189572': ['TRDZUFJ12903CE29FC'], 'SOAAAGN12AB017D672': ['TRHPQGK128F930A22F'], 'SOAAAGO12A67AE0A0E': ['TRLNGIA128EF33FD34'], 'SOAAAGP12A6D4F7D1C': ['TRDWEPA128F145FE05'], 'SOAAAGQ12A8C1420C8': ['TRJWZII128F92CA924']}\n"
     ]
    }
   ],
   "source": [
    "path = '../data/taste_profile_song_to_tracks.txt'\n",
    "with open(path, 'r') as f:\n",
    "    lines = [f.readline().strip() for _ in range(10)]\n",
    "    out = dict()\n",
    "    for line in lines:\n",
    "        line = line.split('\\t')\n",
    "        song, tracks = line[0], line[1:]\n",
    "        out[song] = tracks\n",
    "    \n",
    "print(out)"
   ]
  },
  {
   "cell_type": "markdown",
   "metadata": {
    "heading_collapsed": true
   },
   "source": [
    "## `train_triplets.txt`\n",
    "\n",
    "* The core dataset for song recommendation. Each line is a triplet `(user_id, song_id, num_plays)` indicating that this user played this song this many times.\n",
    "* There are 48373586 triplets in all."
   ]
  },
  {
   "cell_type": "code",
   "execution_count": 9,
   "metadata": {
    "hidden": true
   },
   "outputs": [
    {
     "name": "stdout",
     "output_type": "stream",
     "text": [
      "b80344d063b5ccb3212f76538f3d9e43d87dca9e --> SOAKIMP12A8C130995 -- > 1 times\n",
      "b80344d063b5ccb3212f76538f3d9e43d87dca9e --> SOAPDEY12A81C210A9 -- > 1 times\n",
      "b80344d063b5ccb3212f76538f3d9e43d87dca9e --> SOBBMDR12A8C13253B -- > 2 times\n",
      "b80344d063b5ccb3212f76538f3d9e43d87dca9e --> SOBFNSP12AF72A0E22 -- > 1 times\n",
      "b80344d063b5ccb3212f76538f3d9e43d87dca9e --> SOBFOVM12A58A7D494 -- > 1 times\n",
      "b80344d063b5ccb3212f76538f3d9e43d87dca9e --> SOBNZDC12A6D4FC103 -- > 1 times\n",
      "b80344d063b5ccb3212f76538f3d9e43d87dca9e --> SOBSUJE12A6D4F8CF5 -- > 2 times\n",
      "b80344d063b5ccb3212f76538f3d9e43d87dca9e --> SOBVFZR12A6D4F8AE3 -- > 1 times\n",
      "b80344d063b5ccb3212f76538f3d9e43d87dca9e --> SOBXALG12A8C13C108 -- > 1 times\n",
      "b80344d063b5ccb3212f76538f3d9e43d87dca9e --> SOBXHDL12A81C204C0 -- > 1 times\n"
     ]
    }
   ],
   "source": [
    "path = '../data/train_triplets.txt'\n",
    "with open(path, 'r') as f:\n",
    "    lines = [f.readline().strip() for _ in range(10)]\n",
    "    out = []\n",
    "    for line in lines:\n",
    "        line = line.split('\\t')\n",
    "        user_id = line[0]\n",
    "        song_id = line[1]\n",
    "        num_plays = int(line[2])\n",
    "        print('%s --> %s -- > %d times' % (user_id, song_id, num_plays))\n",
    "    \n"
   ]
  },
  {
   "cell_type": "markdown",
   "metadata": {
    "heading_collapsed": true
   },
   "source": [
    "## `kaggle_visible_evaluation_triplets`\n",
    "\n",
    "* This file has the same format as `train_triplets.txt`.\n",
    "* It is the test data."
   ]
  },
  {
   "cell_type": "code",
   "execution_count": 10,
   "metadata": {
    "hidden": true
   },
   "outputs": [
    {
     "name": "stdout",
     "output_type": "stream",
     "text": [
      "fd50c4007b68a3737fe052d5a4f78ce8aa117f3d --> SOBONKR12A58A7A7E0 -- > 1 times\n",
      "fd50c4007b68a3737fe052d5a4f78ce8aa117f3d --> SOEGIYH12A6D4FC0E3 -- > 1 times\n",
      "fd50c4007b68a3737fe052d5a4f78ce8aa117f3d --> SOFLJQZ12A6D4FADA6 -- > 1 times\n",
      "fd50c4007b68a3737fe052d5a4f78ce8aa117f3d --> SOHTKMO12AB01843B0 -- > 1 times\n",
      "fd50c4007b68a3737fe052d5a4f78ce8aa117f3d --> SODQZCY12A6D4F9D11 -- > 1 times\n",
      "fd50c4007b68a3737fe052d5a4f78ce8aa117f3d --> SOXLOQG12AF72A2D55 -- > 1 times\n",
      "d7083f5e1d50c264277d624340edaaf3dc16095b --> SOUVUHC12A67020E3B -- > 1 times\n",
      "d7083f5e1d50c264277d624340edaaf3dc16095b --> SOUQERE12A58A75633 -- > 1 times\n",
      "d7083f5e1d50c264277d624340edaaf3dc16095b --> SOIPJAX12A8C141A2D -- > 1 times\n",
      "d7083f5e1d50c264277d624340edaaf3dc16095b --> SOEFCDJ12AB0185FA0 -- > 2 times\n"
     ]
    }
   ],
   "source": [
    "path = '../data/kaggle_visible_evaluation_triplets.txt'\n",
    "with open(path, 'r') as f:\n",
    "    lines = [f.readline().strip() for _ in range(10)]\n",
    "    out = []\n",
    "    for line in lines:\n",
    "        line = line.split('\\t')\n",
    "        user_id = line[0]\n",
    "        song_id = line[1]\n",
    "        num_plays = int(line[2])\n",
    "        print('%s --> %s -- > %d times' % (user_id, song_id, num_plays))\n",
    "    \n"
   ]
  },
  {
   "cell_type": "markdown",
   "metadata": {},
   "source": [
    "# `data/msd_misc`"
   ]
  },
  {
   "cell_type": "markdown",
   "metadata": {
    "heading_collapsed": true
   },
   "source": [
    "## `unique_tracks.txt`\n",
    "\n",
    "* Each line of this file contains a data point of the form:\n",
    "``` \n",
    "(track_id, song_id, artist_name, song_title)\n",
    "```\n",
    "* `track_id` and `song_id` contain the track and song IDs of the song in question, `artist_name` is the name of the artist, and `song_title` the name of the song.\n",
    "* It seems that this file contains `song_id <--> track_id` mappings that aren't present in `taste_profile_song_to_tracks.txt` - when searching within `taste_profile_song_to_tracks.txt` for some of the song IDs listed in `unique_tracks.txt`, not all return results."
   ]
  },
  {
   "cell_type": "code",
   "execution_count": 12,
   "metadata": {
    "hidden": true
   },
   "outputs": [
    {
     "name": "stdout",
     "output_type": "stream",
     "text": [
      "['TRMMMYQ128F932D901', 'SOQMMHC12AB0180CB8', 'Faster Pussy cat', 'Silent Night']\n",
      "['TRMMMKD128F425225D', 'SOVFVAK12A8C1350D9', 'Karkkiautomaatti', 'Tanssi vaan']\n",
      "['TRMMMRX128F93187D9', 'SOGTUKN12AB017F4F1', 'Hudson Mohawke', 'No One Could Ever']\n",
      "['TRMMMCH128F425532C', 'SOBNYVR12A8C13558C', 'Yerba Brava', 'Si Vos Querés']\n",
      "['TRMMMWA128F426B589', 'SOHSBXH12A8C13B0DF', 'Der Mystic', 'Tangle Of Aspens']\n",
      "['TRMMMXN128F42936A5', 'SOZVAPQ12A8C13B63C', 'David Montgomery', 'Symphony No. 1 G minor \"Sinfonie Serieuse\"/Allegro con energia']\n",
      "['TRMMMLR128F1494097', 'SOQVRHI12A6D4FB2D7', 'Sasha / Turbulence', 'We Have Got Love']\n",
      "['TRMMMBB12903CB7D21', 'SOEYRFT12AB018936C', 'Kris Kross', \"2 Da Beat Ch'yall\"]\n",
      "['TRMMMHY12903CB53F1', 'SOPMIYT12A6D4F851E', 'Joseph Locke', 'Goodbye']\n",
      "['TRMMMML128F4280EE9', 'SOJCFMH12A8C13B0C2', \"The Sun Harbor's Chorus-Documentary Recordings\", \"Mama_ mama can't you see ?\"]\n"
     ]
    }
   ],
   "source": [
    "path = '../data/msd_misc/unique_tracks.txt'\n",
    "\n",
    "with open(path, 'r') as f:\n",
    "    lines = [f.readline().strip() for _ in range(10)]\n",
    "    for line in lines:\n",
    "        line = line.split('<SEP>')\n",
    "        print(line)"
   ]
  },
  {
   "cell_type": "code",
   "execution_count": 16,
   "metadata": {
    "hidden": true
   },
   "outputs": [
    {
     "name": "stdout",
     "output_type": "stream",
     "text": [
      "SOBNYVR12A8C13558C\tTRMMMCH128F425532C\n",
      "\n"
     ]
    }
   ],
   "source": [
    "to_find = 'SOBNYVR12A8C13558C'\n",
    "tpst_path = '../data/taste_profile_song_to_tracks.txt'\n",
    "\n",
    "with open(tpst_path, 'r') as f:\n",
    "    for line in f:\n",
    "        if to_find in line:\n",
    "            print(line)\n",
    "            break"
   ]
  },
  {
   "cell_type": "markdown",
   "metadata": {
    "heading_collapsed": true
   },
   "source": [
    "## `unique_artists.txt`\n",
    "\n",
    "* Each line of this file contains a data point of the form:\n",
    "```\n",
    "(artist_id, artist_mbid, track_id, artist_name)\n",
    "```\n",
    "* `artist_id` is the unique ID of the artist\n",
    "* `artist_mbid` is the MusicBrainz ID for the artist -- I'm not sure I will be using any MusicBrainz data, so I will probably ignore this"
   ]
  },
  {
   "cell_type": "code",
   "execution_count": 19,
   "metadata": {
    "hidden": true
   },
   "outputs": [
    {
     "name": "stdout",
     "output_type": "stream",
     "text": [
      "['AR002UA1187B9A637D', '7752a11c-9d8b-4220-ac44-e4a04cc8471d', 'TRMUOZE12903CDF721', 'The Bristols']\n",
      "['AR003FB1187B994355', '1dbd2d7b-64c8-46aa-9f47-ff589096d672', 'TRWDPFR128F93594A6', 'The Feds']\n",
      "['AR006821187FB5192B', '94fc1228-7032-4fe6-a485-e122e5fbee65', 'TRMZLJF128F4269EAC', \"Stephen Varcoe/Choir of King's College_ Cambridge/Sir David Willcocks\"]\n",
      "['AR009211187B989185', '9dfe78a6-6d91-454e-9b95-9d7722cbc476', 'TRMGURO12903CAE2F0', 'Carroll Thompson']\n",
      "['AR009SZ1187B9A73F4', '8cd574c0-b9f7-4998-94f4-654dffaecdf2', 'TRGWWFP12903CE7E79', 'Gorodisch']\n",
      "['AR00A1N1187FB484EB', '7373764f-c642-4393-9492-97b5622c4bce', 'TRMMUWQ128F92E88FC', '1.000 Mexicans']\n",
      "['AR00A6H1187FB5402A', '312c14d9-7897-4608-944a-c5b1c76ae682', 'TRWNEQX12903CB84FB', 'The Meatmen']\n",
      "['AR00AP71187B99635F', '607d7275-2b92-49e5-a7ee-32f9cc29b076', 'TRWXQXG12903CE91BD', 'Miles Davis']\n",
      "['AR00B1I1187FB433EB', '4a5777b3-f55b-437c-8b23-d9ee7791c7fc', 'TRMZTST128E0792E44', 'Eagle-Eye Cherry']\n",
      "['AR00DDV1187B98B2BF', '702d022f-afa6-4614-b13d-01ea1cb74e7d', 'TRGGVVS128F428EBAC', 'Deepack']\n"
     ]
    }
   ],
   "source": [
    "path = '../data/msd_misc/unique_artists.txt'\n",
    "\n",
    "with open(path, 'r') as f:\n",
    "    lines = [f.readline().strip() for _ in range(10)]\n",
    "    for line in lines:\n",
    "        line = line.split('<SEP>')\n",
    "        print(line)"
   ]
  },
  {
   "cell_type": "markdown",
   "metadata": {
    "heading_collapsed": true
   },
   "source": [
    "## `artist_location.txt`\n",
    "\n",
    "* Each line of this file contains a data point of the form:\n",
    "```\n",
    "(artist_id, latitude, longitude, artist_name, location_name)\n",
    "```\n",
    "* Location data is not available for *all* artists, however."
   ]
  },
  {
   "cell_type": "code",
   "execution_count": 21,
   "metadata": {
    "hidden": true
   },
   "outputs": [
    {
     "name": "stdout",
     "output_type": "stream",
     "text": [
      "['ARZGXZG1187B9B56B6', '-16.96595', '-61.14804', 'Endless Blue', 'Santa Cruz']\n",
      "['AR8K6F31187B99C2BC', '46.44231', '-93.36586', 'Go Fish', 'Twin Cities, MN']\n",
      "['ARHJJ771187FB5B581', '51.59678', '-0.33556', 'Screaming Lord Sutch', 'Harrow, Middlesex, England']\n",
      "['ARJ8YLL1187FB3CA93', '40.69626', '-73.83301', 'Morton Gould', 'Richmond Hill, NY']\n",
      "['ARYBAGV11ECC836DAC', '43.58828', '-79.64372', 'Crash Parallel', 'Mississauga']\n",
      "['AR9SWJO1187FB47837', '59.91228', '10.74998', 'Prins Thomas', 'Oslo']\n",
      "['ARO2Y5H1187B99D227', '56.95468', '-98.30897', 'Blinker The Star', 'Canada']\n",
      "['ARM2AV21187FB3DB65', '51.16418', '10.45415', '17 Hippies', 'Fort Worth Texas USA']\n",
      "['ARCSB641187FB47E64', '37.30198', '-78.3926', 'Lady Of Rage', 'Farmville, VA']\n",
      "['ARWMIKB1187B9AD5DC', '52.22357', '6.89537', 'Hans Theessink / Gerry Lockran', 'Enschede, Netherlands']\n"
     ]
    }
   ],
   "source": [
    "path = '../data/msd_misc/artist_location.txt'\n",
    "\n",
    "with open(path, 'r') as f:\n",
    "    lines = [f.readline().strip() for _ in range(10)]\n",
    "    for line in lines:\n",
    "        line = line.split('<SEP>')\n",
    "        print(line)"
   ]
  },
  {
   "cell_type": "markdown",
   "metadata": {},
   "source": [
    "## `unique_terms.txt`\n",
    "\n",
    "TODO\n",
    "\n",
    "* This file contains a list of all unique Echo Nest tags (_terms_) used"
   ]
  },
  {
   "cell_type": "code",
   "execution_count": 22,
   "metadata": {},
   "outputs": [
    {
     "name": "stdout",
     "output_type": "stream",
     "text": [
      "['00s', '00s alternative', '00s country', '00s indie', '00s pop', '12k', '15th century', '16th century', '1700s', '1800s']\n"
     ]
    }
   ],
   "source": [
    "path = '../data/msd_misc/unique_terms.txt'\n",
    "\n",
    "with open(path, 'r') as f:\n",
    "    lines = [f.readline().strip() for _ in range(10)]\n",
    "#     for line in lines:\n",
    "#         line = line.split('<SEP>')\n",
    "#         print(line)\n",
    "    print(lines)"
   ]
  }
 ],
 "metadata": {
  "kernelspec": {
   "display_name": "Python 3",
   "language": "python",
   "name": "python3"
  },
  "language_info": {
   "codemirror_mode": {
    "name": "ipython",
    "version": 3
   },
   "file_extension": ".py",
   "mimetype": "text/x-python",
   "name": "python",
   "nbconvert_exporter": "python",
   "pygments_lexer": "ipython3",
   "version": "3.6.7"
  },
  "latex_envs": {
   "LaTeX_envs_menu_present": true,
   "autoclose": false,
   "autocomplete": true,
   "bibliofile": "biblio.bib",
   "cite_by": "apalike",
   "current_citInitial": 1,
   "eqLabelWithNumbers": true,
   "eqNumInitial": 1,
   "hotkeys": {
    "equation": "Ctrl-E",
    "itemize": "Ctrl-I"
   },
   "labels_anchors": false,
   "latex_user_defs": false,
   "report_style_numbering": false,
   "user_envs_cfg": false
  }
 },
 "nbformat": 4,
 "nbformat_minor": 2
}
